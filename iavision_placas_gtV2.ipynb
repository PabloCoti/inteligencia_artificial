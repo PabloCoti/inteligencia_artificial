{
 "cells": [
  {
   "cell_type": "markdown",
   "metadata": {},
   "source": [
    "# INSTALL AND IMPORT DEPENDENCIES"
   ]
  },
  {
   "cell_type": "code",
   "execution_count": null,
   "metadata": {},
   "outputs": [],
   "source": [
    "# %pip install matplotlib\n",
    "# %pip install easyocr\n",
    "# %pip install imutils\n",
    "# %pip install numpy\n",
    "# %pip install pyqt5"
   ]
  },
  {
   "cell_type": "code",
   "execution_count": null,
   "metadata": {},
   "outputs": [],
   "source": [
    "import cv2\n",
    "import imutils\n",
    "import easyocr\n",
    "import numpy as np\n",
    "from matplotlib import pyplot as plt"
   ]
  },
  {
   "cell_type": "markdown",
   "metadata": {},
   "source": [
    "# (OPTIONAL) SELECT IMAGE TO PROCESS"
   ]
  },
  {
   "cell_type": "code",
   "execution_count": null,
   "metadata": {},
   "outputs": [],
   "source": [
    "from PyQt5.QtWidgets import QApplication, QFileDialog\n",
    "\n",
    "# Create a QApplication instance\n",
    "app = QApplication([])\n",
    "\n",
    "# Open the file dialog and get the selected file path\n",
    "file_dialog = QFileDialog()\n",
    "file_path, _ = file_dialog.getOpenFileName()\n",
    "\n",
    "# Print the selected file path\n",
    "print(\"Selected file:\", file_path)\n",
    "\n",
    "# Close the application\n",
    "app.quit()"
   ]
  },
  {
   "cell_type": "markdown",
   "metadata": {},
   "source": [
    "# READ AN IMAGE, GRAYSCALE AND BLUR"
   ]
  },
  {
   "cell_type": "markdown",
   "metadata": {},
   "source": [
    "## IF NO IMAGE WAS SELECTED, THEN WRITE THE PATH OF THE IMAGE"
   ]
  },
  {
   "cell_type": "code",
   "execution_count": null,
   "metadata": {},
   "outputs": [],
   "source": [
    "img = cv2.imread(file_path)"
   ]
  },
  {
   "cell_type": "code",
   "execution_count": null,
   "metadata": {},
   "outputs": [],
   "source": [
    "print(\"IMAGEN A DETECTAR\")\n",
    "plt.imshow(cv2.cvtColor(img, cv2.COLOR_BGR2RGB))"
   ]
  },
  {
   "cell_type": "code",
   "execution_count": null,
   "metadata": {},
   "outputs": [],
   "source": [
    "# Convertir la imagen a espacio de color HSV\n",
    "hsv_img = cv2.cvtColor(img, cv2.COLOR_BGR2HSV)\n",
    "\n",
    "# Definir rango de colores rojos en HSV\n",
    "lower_red = np.array([0, 100, 100])\n",
    "upper_red = np.array([10, 255, 255])\n",
    "\n",
    "# Crear una máscara que solo contiene los píxeles rojos\n",
    "red_mask = cv2.inRange(hsv_img, lower_red, upper_red)\n",
    "\n",
    "# Aplicar la máscara a la imagen original\n",
    "img_without_red = cv2.bitwise_and(img, img, mask=~red_mask)"
   ]
  },
  {
   "cell_type": "code",
   "execution_count": null,
   "metadata": {},
   "outputs": [],
   "source": [
    "# Convertir la imagen a escala de grises\n",
    "gray = cv2.cvtColor(img, cv2.COLOR_BGR2GRAY)\n",
    "\n",
    "# Aplicar umbralización para segmentar los píxeles rojos\n",
    "_, red_thresh = cv2.threshold(gray, 200, 255, cv2.THRESH_BINARY)\n",
    "\n",
    "# Invertir la máscara de umbralización\n",
    "red_thresh = cv2.bitwise_not(red_thresh)\n",
    "\n",
    "# Aplicar la máscara a la imagen original\n",
    "img_without_red = cv2.bitwise_and(img, img, mask=red_thresh)"
   ]
  },
  {
   "cell_type": "code",
   "execution_count": null,
   "metadata": {},
   "outputs": [],
   "source": [
    "gray = cv2.cvtColor(img, cv2.COLOR_BGR2GRAY)"
   ]
  },
  {
   "cell_type": "code",
   "execution_count": null,
   "metadata": {},
   "outputs": [],
   "source": [
    "print(\"IMAGEN EN ESCALA DE GRISES\")\n",
    "plt.imshow(cv2.cvtColor(gray, cv2.COLOR_BGR2RGB))"
   ]
  },
  {
   "cell_type": "code",
   "execution_count": null,
   "metadata": {},
   "outputs": [],
   "source": [
    "gray = cv2.blur(gray, (3, 3))"
   ]
  },
  {
   "cell_type": "code",
   "execution_count": null,
   "metadata": {},
   "outputs": [],
   "source": [
    "print(\"IMAGEN EN ESCALA DE GRISES CON BLUR\")\n",
    "plt.imshow(gray, cmap=\"gray\")"
   ]
  },
  {
   "cell_type": "markdown",
   "metadata": {},
   "source": [
    "# APPLY FILTER AND FIND EDGES FOR LOCALIZATION"
   ]
  },
  {
   "cell_type": "code",
   "execution_count": null,
   "metadata": {},
   "outputs": [],
   "source": [
    "# Aplicar filtrado Gaussiano para suavizar la imagen\n",
    "blur = cv2.GaussianBlur(gray, (5, 5), 0)\n",
    "\n",
    "# Aplicar filtrado bilateral para reducir el ruido manteniendo los bordes\n",
    "bilateral = cv2.bilateralFilter(blur, 11, 17, 17)\n",
    "\n",
    "# Aplicar detección de bordes con Canny\n",
    "edged = cv2.Canny(bilateral, 30, 200)"
   ]
  },
  {
   "cell_type": "code",
   "execution_count": null,
   "metadata": {},
   "outputs": [],
   "source": [
    "print(\"IMAGEN CON BORDES DETECTADOS\")\n",
    "plt.imshow(cv2.cvtColor(edged, cv2.COLOR_BGR2RGB))"
   ]
  },
  {
   "cell_type": "markdown",
   "metadata": {},
   "source": [
    "# FIND CONTOURS AND APPLY MASK"
   ]
  },
  {
   "cell_type": "code",
   "execution_count": null,
   "metadata": {},
   "outputs": [],
   "source": [
    "keypoints = cv2.findContours(edged.copy(), cv2.RETR_TREE, cv2.CHAIN_APPROX_SIMPLE)\n",
    "contours = imutils.grab_contours(keypoints)\n",
    "contours = sorted(contours, key=cv2.contourArea, reverse=True)[:10]"
   ]
  },
  {
   "cell_type": "code",
   "execution_count": null,
   "metadata": {},
   "outputs": [],
   "source": [
    "# Después de encontrar los contornos, filtrar aquellos que no tienen la forma deseada y el tamaño adecuado\n",
    "filtered_contours = []\n",
    "# min_area = 1000  # área mínima esperada para la placa del carro\n",
    "# max_area = 5000  # área máxima esperada para la placa del carro\n",
    "for contour in contours:\n",
    "    # Calcular el área del contorno\n",
    "    area = cv2.contourArea(contour)\n",
    "    # Calcular el perímetro del contorno\n",
    "    perimeter = cv2.arcLength(contour, True)\n",
    "    # Aproximar el contorno a un polígono\n",
    "    approx = cv2.approxPolyDP(contour, 0.02 * perimeter, True)\n",
    "    # Filtrar los contornos que tienen 4 lados, un área dentro del rango deseado y una relación de aspecto cercana a 1\n",
    "\n",
    "    filtered_contours.append(contour)"
   ]
  },
  {
   "cell_type": "code",
   "execution_count": null,
   "metadata": {},
   "outputs": [],
   "source": [
    "if filtered_contours:\n",
    "    location = filtered_contours[0]\n",
    "    print(\"POSIBLE UBICACION DE LA PLACA\\n\", location)\n",
    "\n",
    "    mask = np.zeros(gray.shape, np.uint8)\n",
    "    new_image = cv2.drawContours(mask, [location], 0, 255, -1)\n",
    "    new_image = cv2.bitwise_and(img, img, mask=mask)\n",
    "\n",
    "    print(\"IMAGEN CON LA PLACA DETECTADA\")\n",
    "    plt.imshow(cv2.cvtColor(new_image, cv2.COLOR_BGR2RGB))\n",
    "else:\n",
    "    print(\"No se encontraron contornos que parezcan ser una placa del carro.\")"
   ]
  },
  {
   "cell_type": "code",
   "execution_count": null,
   "metadata": {},
   "outputs": [],
   "source": [
    "(x, y) = np.where(mask == 255)\n",
    "(topx, topy) = (np.min(x), np.min(y))\n",
    "(bottomx, bottomy) = (np.max(x), np.max(y))\n",
    "cropped = gray[topx : bottomx + 1, topy : bottomy + 1]"
   ]
  },
  {
   "cell_type": "code",
   "execution_count": null,
   "metadata": {},
   "outputs": [],
   "source": [
    "print(\"IMAGEN DE LA PLACA RECORTADA\")\n",
    "plt.imshow(cv2.cvtColor(cropped, cv2.COLOR_BGR2RGB))"
   ]
  },
  {
   "cell_type": "code",
   "execution_count": null,
   "metadata": {},
   "outputs": [],
   "source": [
    "kernel = np.array([[-1, -1, -1], [-1, 9, -1], [-1, -1, -1]])\n",
    "\n",
    "# Aplicar el filtro de enfoque a la imagen\n",
    "sharpened = cv2.filter2D(cropped, -1, kernel)\n",
    "\n",
    "# Guardar la imagen mejorada en la variable cropped\n",
    "cropped = sharpened"
   ]
  },
  {
   "cell_type": "code",
   "execution_count": null,
   "metadata": {},
   "outputs": [],
   "source": [
    "print(\"IMAGEN DE LA PLACA RECORTADA\")\n",
    "plt.imshow(cv2.cvtColor(cropped, cv2.COLOR_BGR2RGB))"
   ]
  },
  {
   "cell_type": "markdown",
   "metadata": {},
   "source": [
    "# USE EASY OCR TO READ TEXT"
   ]
  },
  {
   "cell_type": "code",
   "execution_count": null,
   "metadata": {},
   "outputs": [],
   "source": [
    "reader = easyocr.Reader([\"es\"])\n",
    "result = reader.readtext(cropped)"
   ]
  },
  {
   "cell_type": "code",
   "execution_count": null,
   "metadata": {},
   "outputs": [],
   "source": [
    "print(\"TEXTO DETECTADO EN LA PLACA\")\n",
    "print(result)"
   ]
  },
  {
   "cell_type": "code",
   "execution_count": null,
   "metadata": {},
   "outputs": [],
   "source": [
    "# Iterar sobre los resultados detectados\n",
    "for detection in result:\n",
    "    # Obtener el texto detectado y convertirlo a mayúsculas\n",
    "    text = detection[-2].upper()\n",
    "\n",
    "    # Crear una imagen en blanco del mismo tamaño que la original\n",
    "    plate_image = np.zeros_like(img)\n",
    "\n",
    "    # Dibujar un rectángulo en la imagen de la placa\n",
    "    plate_image = cv2.rectangle(\n",
    "        plate_image, tuple(approx[0][0]), tuple(approx[2][0]), (255, 255, 255), -1\n",
    "    )\n",
    "\n",
    "    # Escribir el texto de la placa en la imagen de la placa\n",
    "    font_scale = 2\n",
    "    font_thickness = 3\n",
    "    font = cv2.FONT_HERSHEY_SIMPLEX\n",
    "    text_size = cv2.getTextSize(text, font, font_scale, font_thickness)[0]\n",
    "    text_position = (\n",
    "        (plate_image.shape[1] - text_size[0]) // 2,\n",
    "        (plate_image.shape[0] + text_size[1]) // 2,\n",
    "    )\n",
    "    plate_image = cv2.putText(\n",
    "        plate_image,\n",
    "        text,\n",
    "        text_position,\n",
    "        font,\n",
    "        font_scale,\n",
    "        (0, 255, 0),\n",
    "        font_thickness,\n",
    "        cv2.LINE_AA,\n",
    "    )\n",
    "\n",
    "    # Mostrar la imagen con la placa simulada\n",
    "    print(\"IMAGEN CON LA PLACA SIMULADA\")\n",
    "    plt.imshow(cv2.cvtColor(plate_image, cv2.COLOR_BGR2RGB))\n",
    "    plt.axis(\"off\")\n",
    "    plt.show()"
   ]
  }
 ],
 "metadata": {
  "kernelspec": {
   "display_name": "Python 3 (ipykernel)",
   "language": "python",
   "name": "python3"
  },
  "language_info": {
   "codemirror_mode": {
    "name": "ipython",
    "version": 3
   },
   "file_extension": ".py",
   "mimetype": "text/x-python",
   "name": "python",
   "nbconvert_exporter": "python",
   "pygments_lexer": "ipython3",
   "version": "3.9.0"
  }
 },
 "nbformat": 4,
 "nbformat_minor": 4
}
