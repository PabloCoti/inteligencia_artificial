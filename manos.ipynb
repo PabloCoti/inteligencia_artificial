{
 "cells": [
  {
   "cell_type": "code",
   "execution_count": 22,
   "metadata": {},
   "outputs": [],
   "source": [
    "import cv2\n",
    "import mediapipe as mp"
   ]
  },
  {
   "cell_type": "code",
   "execution_count": 23,
   "metadata": {},
   "outputs": [
    {
     "name": "stdout",
     "output_type": "stream",
     "text": [
      "Dandedness: [classification {\n",
      "  index: 1\n",
      "  score: 0.900184393\n",
      "  label: \"Right\"\n",
      "}\n",
      ", classification {\n",
      "  index: 0\n",
      "  score: 0.978194\n",
      "  label: \"Left\"\n",
      "}\n",
      "]\n"
     ]
    }
   ],
   "source": [
    "mp_hands = mp.solutions.hands\n",
    "mp_drawing = mp.solutions.drawing_utils\n",
    "\n",
    "with mp_hands.Hands(\n",
    "    static_image_mode=True, max_num_hands=2, min_detection_confidence=0.5\n",
    ") as hands:\n",
    "    image = cv2.imread(\"files/images/manos.jpg\")  # Ruta de la imagen de la mano\n",
    "    height, width, _ = image.shape\n",
    "    image_rgb = cv2.cvtColor(image, cv2.COLOR_BGR2RGB)\n",
    "    results = hands.process(image_rgb)\n",
    "    print(\"Dandedness:\", results.multi_handedness)"
   ]
  },
  {
   "cell_type": "code",
   "execution_count": 24,
   "metadata": {},
   "outputs": [],
   "source": [
    "if results.multi_hand_landmarks is not None:\n",
    "    for hand_landmarks in results.multi_hand_landmarks:\n",
    "        mp_drawing.draw_landmarks(\n",
    "            image,\n",
    "            hand_landmarks,\n",
    "            mp_hands.HAND_CONNECTIONS,\n",
    "            mp_drawing.DrawingSpec(color=(225, 225, 0), thickness=4, circle_radius=5),\n",
    "            mp_drawing.DrawingSpec(color=(225, 0, 225), thickness=4),\n",
    "        )\n",
    "\n",
    "    smaller_image = cv2.resize(image, (int(width / 2), int(height / 2)))\n",
    "\n",
    "    cv2.imshow(\"Image\", smaller_image)\n",
    "    cv2.waitKey(0)\n",
    "    cv2.destroyAllWindows()"
   ]
  }
 ],
 "metadata": {
  "kernelspec": {
   "display_name": ".venv",
   "language": "python",
   "name": "python3"
  },
  "language_info": {
   "codemirror_mode": {
    "name": "ipython",
    "version": 3
   },
   "file_extension": ".py",
   "mimetype": "text/x-python",
   "name": "python",
   "nbconvert_exporter": "python",
   "pygments_lexer": "ipython3",
   "version": "3.12.2"
  }
 },
 "nbformat": 4,
 "nbformat_minor": 2
}
