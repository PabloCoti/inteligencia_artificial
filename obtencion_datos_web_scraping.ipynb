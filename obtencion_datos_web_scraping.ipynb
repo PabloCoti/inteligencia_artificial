{
 "cells": [
  {
   "cell_type": "code",
   "execution_count": 2,
   "id": "17dbf5ba-6783-470e-b11a-02094df3fab4",
   "metadata": {},
   "outputs": [
    {
     "name": "stdout",
     "output_type": "stream",
     "text": [
      "Requirement already satisfied: camelot-py[base] in c:\\users\\pca20\\documents\\github\\inteligencia_artificial\\.venv\\lib\\site-packages (0.11.0)\n",
      "Requirement already satisfied: chardet>=3.0.4 in c:\\users\\pca20\\documents\\github\\inteligencia_artificial\\.venv\\lib\\site-packages (from camelot-py[base]) (5.2.0)\n",
      "Requirement already satisfied: click>=6.7 in c:\\users\\pca20\\documents\\github\\inteligencia_artificial\\.venv\\lib\\site-packages (from camelot-py[base]) (8.1.7)\n",
      "Requirement already satisfied: numpy>=1.13.3 in c:\\users\\pca20\\documents\\github\\inteligencia_artificial\\.venv\\lib\\site-packages (from camelot-py[base]) (1.26.4)\n",
      "Requirement already satisfied: openpyxl>=2.5.8 in c:\\users\\pca20\\documents\\github\\inteligencia_artificial\\.venv\\lib\\site-packages (from camelot-py[base]) (3.1.2)\n",
      "Requirement already satisfied: pandas>=0.23.4 in c:\\users\\pca20\\documents\\github\\inteligencia_artificial\\.venv\\lib\\site-packages (from camelot-py[base]) (2.2.0)\n",
      "Requirement already satisfied: pdfminer.six>=20200726 in c:\\users\\pca20\\documents\\github\\inteligencia_artificial\\.venv\\lib\\site-packages (from camelot-py[base]) (20231228)\n",
      "Requirement already satisfied: pypdf>=3.0.0 in c:\\users\\pca20\\documents\\github\\inteligencia_artificial\\.venv\\lib\\site-packages (from camelot-py[base]) (4.0.1)\n",
      "Requirement already satisfied: tabulate>=0.8.9 in c:\\users\\pca20\\documents\\github\\inteligencia_artificial\\.venv\\lib\\site-packages (from camelot-py[base]) (0.9.0)\n",
      "Requirement already satisfied: ghostscript>=0.7 in c:\\users\\pca20\\documents\\github\\inteligencia_artificial\\.venv\\lib\\site-packages (from camelot-py[base]) (0.7)\n",
      "Requirement already satisfied: opencv-python>=3.4.2.17 in c:\\users\\pca20\\documents\\github\\inteligencia_artificial\\.venv\\lib\\site-packages (from camelot-py[base]) (4.9.0.80)\n",
      "Requirement already satisfied: pdftopng>=0.2.3 in c:\\users\\pca20\\documents\\github\\inteligencia_artificial\\.venv\\lib\\site-packages (from camelot-py[base]) (0.2.3)\n",
      "Requirement already satisfied: colorama in c:\\users\\pca20\\documents\\github\\inteligencia_artificial\\.venv\\lib\\site-packages (from click>=6.7->camelot-py[base]) (0.4.6)\n",
      "Requirement already satisfied: setuptools>=38.6.0 in c:\\users\\pca20\\documents\\github\\inteligencia_artificial\\.venv\\lib\\site-packages (from ghostscript>=0.7->camelot-py[base]) (49.2.1)\n",
      "Requirement already satisfied: et-xmlfile in c:\\users\\pca20\\documents\\github\\inteligencia_artificial\\.venv\\lib\\site-packages (from openpyxl>=2.5.8->camelot-py[base]) (1.1.0)\n",
      "Requirement already satisfied: python-dateutil>=2.8.2 in c:\\users\\pca20\\documents\\github\\inteligencia_artificial\\.venv\\lib\\site-packages (from pandas>=0.23.4->camelot-py[base]) (2.8.2)\n",
      "Requirement already satisfied: pytz>=2020.1 in c:\\users\\pca20\\documents\\github\\inteligencia_artificial\\.venv\\lib\\site-packages (from pandas>=0.23.4->camelot-py[base]) (2024.1)\n",
      "Requirement already satisfied: tzdata>=2022.7 in c:\\users\\pca20\\documents\\github\\inteligencia_artificial\\.venv\\lib\\site-packages (from pandas>=0.23.4->camelot-py[base]) (2024.1)\n",
      "Requirement already satisfied: charset-normalizer>=2.0.0 in c:\\users\\pca20\\documents\\github\\inteligencia_artificial\\.venv\\lib\\site-packages (from pdfminer.six>=20200726->camelot-py[base]) (3.3.2)\n",
      "Requirement already satisfied: cryptography>=36.0.0 in c:\\users\\pca20\\documents\\github\\inteligencia_artificial\\.venv\\lib\\site-packages (from pdfminer.six>=20200726->camelot-py[base]) (42.0.2)\n",
      "Requirement already satisfied: typing_extensions>=3.7.4.3 in c:\\users\\pca20\\documents\\github\\inteligencia_artificial\\.venv\\lib\\site-packages (from pypdf>=3.0.0->camelot-py[base]) (4.9.0)\n",
      "Requirement already satisfied: cffi>=1.12 in c:\\users\\pca20\\documents\\github\\inteligencia_artificial\\.venv\\lib\\site-packages (from cryptography>=36.0.0->pdfminer.six>=20200726->camelot-py[base]) (1.16.0)\n",
      "Requirement already satisfied: six>=1.5 in c:\\users\\pca20\\documents\\github\\inteligencia_artificial\\.venv\\lib\\site-packages (from python-dateutil>=2.8.2->pandas>=0.23.4->camelot-py[base]) (1.16.0)\n",
      "Requirement already satisfied: pycparser in c:\\users\\pca20\\documents\\github\\inteligencia_artificial\\.venv\\lib\\site-packages (from cffi>=1.12->cryptography>=36.0.0->pdfminer.six>=20200726->camelot-py[base]) (2.21)\n",
      "Requirement already satisfied: PyPDF2<3.0 in c:\\users\\pca20\\documents\\github\\inteligencia_artificial\\.venv\\lib\\site-packages (2.12.1)\n",
      "Requirement already satisfied: typing_extensions>=3.10.0.0 in c:\\users\\pca20\\documents\\github\\inteligencia_artificial\\.venv\\lib\\site-packages (from PyPDF2<3.0) (4.9.0)\n"
     ]
    }
   ],
   "source": [
    "## Para PDF\n",
    "\n",
    "# !apt-get install ghostscript\n",
    "# !pip install \"camelot-py[base]\"\n",
    "# !pip install \"camelot-py[cv]\" -q\n",
    "# !pip install \"PyPDF2<3.0\""
   ]
  },
  {
   "cell_type": "code",
   "execution_count": 3,
   "id": "524246f4-859c-43f5-9b27-a53723b86559",
   "metadata": {},
   "outputs": [
    {
     "name": "stdout",
     "output_type": "stream",
     "text": [
      "Requirement already satisfied: bs4 in c:\\users\\pca20\\documents\\github\\inteligencia_artificial\\.venv\\lib\\site-packages (0.0.2)\n",
      "Requirement already satisfied: beautifulsoup4 in c:\\users\\pca20\\documents\\github\\inteligencia_artificial\\.venv\\lib\\site-packages (from bs4) (4.12.3)\n",
      "Requirement already satisfied: soupsieve>1.2 in c:\\users\\pca20\\documents\\github\\inteligencia_artificial\\.venv\\lib\\site-packages (from beautifulsoup4->bs4) (2.5)\n"
     ]
    }
   ],
   "source": [
    "## Para web scraping\n",
    "# !pip install bs4"
   ]
  },
  {
   "cell_type": "code",
   "execution_count": 5,
   "id": "2c6051f9-c6aa-4b73-bba3-a91f51c2039b",
   "metadata": {},
   "outputs": [],
   "source": [
    "import camelot\n",
    "import requests\n",
    "import pandas as pd\n",
    "from bs4 import BeautifulSoup"
   ]
  },
  {
   "cell_type": "code",
   "execution_count": 6,
   "id": "2d49d7c9-ec53-4270-9d1b-041fb378d59c",
   "metadata": {},
   "outputs": [],
   "source": [
    "# Enlace a la página\n",
    "url = 'https://es.wikipedia.org/wiki/Organizaci%C3%B3n_territorial_de_Guatemala'"
   ]
  },
  {
   "cell_type": "code",
   "execution_count": 7,
   "id": "6bd8b2a3-e958-4952-97b0-1de6130433bb",
   "metadata": {},
   "outputs": [],
   "source": [
    "response = requests.get(url)"
   ]
  },
  {
   "cell_type": "code",
   "execution_count": 8,
   "id": "468bc807-c720-45ea-ae1d-a4a7002a5be8",
   "metadata": {},
   "outputs": [
    {
     "name": "stdout",
     "output_type": "stream",
     "text": [
      "Status code https://es.wikipedia.org/wiki/Organizaci%C3%B3n_territorial_de_Guatemala : 200\n"
     ]
    }
   ],
   "source": [
    "# Ver si hubo exito en la conexion\n",
    "print('Status code', url, ':', response.status_code)"
   ]
  },
  {
   "cell_type": "code",
   "execution_count": 9,
   "id": "da42c362-dd21-4ac9-a4fc-84391d59c840",
   "metadata": {},
   "outputs": [],
   "source": [
    "soup = BeautifulSoup(response.text, 'html.parser')"
   ]
  },
  {
   "cell_type": "code",
   "execution_count": 10,
   "id": "25ee28e5-5524-4990-ad4d-5422d876060d",
   "metadata": {},
   "outputs": [],
   "source": [
    "departamentos = soup.find('table', {'class':'wikitable'})"
   ]
  },
  {
   "cell_type": "code",
   "execution_count": 11,
   "id": "a6654926-5e05-46ff-b0cf-5db98fc9a6c0",
   "metadata": {},
   "outputs": [
    {
     "data": {
      "text/plain": [
       "bs4.element.Tag"
      ]
     },
     "execution_count": 11,
     "metadata": {},
     "output_type": "execute_result"
    }
   ],
   "source": [
    "type(departamentos)"
   ]
  },
  {
   "cell_type": "code",
   "execution_count": 12,
   "id": "322f8b6b-00c2-460e-bee8-41311a942d00",
   "metadata": {},
   "outputs": [
    {
     "name": "stderr",
     "output_type": "stream",
     "text": [
      "C:\\Users\\pca20\\AppData\\Local\\Temp\\ipykernel_7872\\1524768891.py:1: FutureWarning: Passing literal html to 'read_html' is deprecated and will be removed in a future version. To read from a literal string, wrap it in a 'StringIO' object.\n",
      "  dfDepto = pd.read_html(str(departamentos))\n"
     ]
    }
   ],
   "source": [
    "dfDepto = pd.read_html(str(departamentos))"
   ]
  },
  {
   "cell_type": "code",
   "execution_count": 15,
   "id": "c2f222ac-6f35-45bf-be43-ba6802bf0fea",
   "metadata": {},
   "outputs": [
    {
     "data": {
      "text/html": [
       "<div>\n",
       "<style scoped>\n",
       "    .dataframe tbody tr th:only-of-type {\n",
       "        vertical-align: middle;\n",
       "    }\n",
       "\n",
       "    .dataframe tbody tr th {\n",
       "        vertical-align: top;\n",
       "    }\n",
       "\n",
       "    .dataframe thead th {\n",
       "        text-align: right;\n",
       "    }\n",
       "</style>\n",
       "<table border=\"1\" class=\"dataframe\">\n",
       "  <thead>\n",
       "    <tr style=\"text-align: right;\">\n",
       "      <th></th>\n",
       "      <th>0</th>\n",
       "      <th>1</th>\n",
       "      <th>2</th>\n",
       "      <th>3</th>\n",
       "    </tr>\n",
       "  </thead>\n",
       "  <tbody>\n",
       "    <tr>\n",
       "      <th>0</th>\n",
       "      <td>Departamentos de Guatemala</td>\n",
       "      <td>Departamentos de Guatemala</td>\n",
       "      <td>Departamentos de Guatemala</td>\n",
       "      <td>Departamentos de Guatemala</td>\n",
       "    </tr>\n",
       "    <tr>\n",
       "      <th>1</th>\n",
       "      <td>Zacapa Chiquimula Sacatepéquez San Marcos Reta...</td>\n",
       "      <td>Zacapa Chiquimula Sacatepéquez San Marcos Reta...</td>\n",
       "      <td>Zacapa Chiquimula Sacatepéquez San Marcos Reta...</td>\n",
       "      <td>Zacapa Chiquimula Sacatepéquez San Marcos Reta...</td>\n",
       "    </tr>\n",
       "    <tr>\n",
       "      <th>2</th>\n",
       "      <td>Departamento</td>\n",
       "      <td>Cabecera</td>\n",
       "      <td>Superficie (km²)</td>\n",
       "      <td>Población (hab.)[1]​</td>\n",
       "    </tr>\n",
       "    <tr>\n",
       "      <th>3</th>\n",
       "      <td>Alta Verapaz</td>\n",
       "      <td>Cobán</td>\n",
       "      <td>8 686</td>\n",
       "      <td>1 112 781</td>\n",
       "    </tr>\n",
       "    <tr>\n",
       "      <th>4</th>\n",
       "      <td>Baja Verapaz</td>\n",
       "      <td>Salamá</td>\n",
       "      <td>3 124</td>\n",
       "      <td>270 521</td>\n",
       "    </tr>\n",
       "    <tr>\n",
       "      <th>5</th>\n",
       "      <td>Chimaltenango</td>\n",
       "      <td>Chimaltenango</td>\n",
       "      <td>1 979</td>\n",
       "      <td>666 938</td>\n",
       "    </tr>\n",
       "    <tr>\n",
       "      <th>6</th>\n",
       "      <td>Chiquimula</td>\n",
       "      <td>Chiquimula</td>\n",
       "      <td>2 376</td>\n",
       "      <td>370 891</td>\n",
       "    </tr>\n",
       "    <tr>\n",
       "      <th>7</th>\n",
       "      <td>El Progreso</td>\n",
       "      <td>Guastatoya</td>\n",
       "      <td>1 922</td>\n",
       "      <td>158 092</td>\n",
       "    </tr>\n",
       "    <tr>\n",
       "      <th>8</th>\n",
       "      <td>Escuintla</td>\n",
       "      <td>Escuintla</td>\n",
       "      <td>4 384</td>\n",
       "      <td>701 016</td>\n",
       "    </tr>\n",
       "    <tr>\n",
       "      <th>9</th>\n",
       "      <td>Guatemala</td>\n",
       "      <td>Ciudad de Guatemala</td>\n",
       "      <td>2 126</td>\n",
       "      <td>2 541 581</td>\n",
       "    </tr>\n",
       "    <tr>\n",
       "      <th>10</th>\n",
       "      <td>Huehuetenango</td>\n",
       "      <td>Huehuetenango</td>\n",
       "      <td>7 400</td>\n",
       "      <td>1 143 887</td>\n",
       "    </tr>\n",
       "    <tr>\n",
       "      <th>11</th>\n",
       "      <td>Izabal</td>\n",
       "      <td>Puerto Barrios</td>\n",
       "      <td>9 038</td>\n",
       "      <td>413 399</td>\n",
       "    </tr>\n",
       "    <tr>\n",
       "      <th>12</th>\n",
       "      <td>Jalapa</td>\n",
       "      <td>Jalapa</td>\n",
       "      <td>2 063</td>\n",
       "      <td>318 420</td>\n",
       "    </tr>\n",
       "    <tr>\n",
       "      <th>13</th>\n",
       "      <td>Jutiapa</td>\n",
       "      <td>Jutiapa</td>\n",
       "      <td>3 216</td>\n",
       "      <td>436 076</td>\n",
       "    </tr>\n",
       "    <tr>\n",
       "      <th>14</th>\n",
       "      <td>Petén</td>\n",
       "      <td>Flores</td>\n",
       "      <td>35 854</td>\n",
       "      <td>638 296</td>\n",
       "    </tr>\n",
       "    <tr>\n",
       "      <th>15</th>\n",
       "      <td>Quetzaltenango</td>\n",
       "      <td>Quetzaltenango</td>\n",
       "      <td>1 953</td>\n",
       "      <td>789 358</td>\n",
       "    </tr>\n",
       "    <tr>\n",
       "      <th>16</th>\n",
       "      <td>Quiché</td>\n",
       "      <td>Santa Cruz del Quiché</td>\n",
       "      <td>8 378</td>\n",
       "      <td>953 027</td>\n",
       "    </tr>\n",
       "    <tr>\n",
       "      <th>17</th>\n",
       "      <td>Retalhuleu</td>\n",
       "      <td>Retalhuleu</td>\n",
       "      <td>1 856</td>\n",
       "      <td>304 168</td>\n",
       "    </tr>\n",
       "    <tr>\n",
       "      <th>18</th>\n",
       "      <td>Sacatepéquez</td>\n",
       "      <td>Antigua Guatemala</td>\n",
       "      <td>465</td>\n",
       "      <td>248 019</td>\n",
       "    </tr>\n",
       "    <tr>\n",
       "      <th>19</th>\n",
       "      <td>San Marcos</td>\n",
       "      <td>San Marcos</td>\n",
       "      <td>3 791</td>\n",
       "      <td>1 019 719</td>\n",
       "    </tr>\n",
       "    <tr>\n",
       "      <th>20</th>\n",
       "      <td>Santa Rosa</td>\n",
       "      <td>Cuilapa</td>\n",
       "      <td>2 955</td>\n",
       "      <td>346 590</td>\n",
       "    </tr>\n",
       "    <tr>\n",
       "      <th>21</th>\n",
       "      <td>Sololá</td>\n",
       "      <td>Sololá</td>\n",
       "      <td>1 061</td>\n",
       "      <td>437 145</td>\n",
       "    </tr>\n",
       "    <tr>\n",
       "      <th>22</th>\n",
       "      <td>Suchitepéquez</td>\n",
       "      <td>Mazatenango</td>\n",
       "      <td>2 510</td>\n",
       "      <td>516 467</td>\n",
       "    </tr>\n",
       "    <tr>\n",
       "      <th>23</th>\n",
       "      <td>Totonicapán</td>\n",
       "      <td>Totonicapán</td>\n",
       "      <td>1 061</td>\n",
       "      <td>476 369</td>\n",
       "    </tr>\n",
       "    <tr>\n",
       "      <th>24</th>\n",
       "      <td>Zacapa</td>\n",
       "      <td>Zacapa</td>\n",
       "      <td>2 690</td>\n",
       "      <td>221 646</td>\n",
       "    </tr>\n",
       "  </tbody>\n",
       "</table>\n",
       "</div>"
      ],
      "text/plain": [
       "                                                    0  \\\n",
       "0                          Departamentos de Guatemala   \n",
       "1   Zacapa Chiquimula Sacatepéquez San Marcos Reta...   \n",
       "2                                        Departamento   \n",
       "3                                        Alta Verapaz   \n",
       "4                                        Baja Verapaz   \n",
       "5                                       Chimaltenango   \n",
       "6                                          Chiquimula   \n",
       "7                                         El Progreso   \n",
       "8                                           Escuintla   \n",
       "9                                           Guatemala   \n",
       "10                                      Huehuetenango   \n",
       "11                                             Izabal   \n",
       "12                                             Jalapa   \n",
       "13                                            Jutiapa   \n",
       "14                                              Petén   \n",
       "15                                     Quetzaltenango   \n",
       "16                                             Quiché   \n",
       "17                                         Retalhuleu   \n",
       "18                                       Sacatepéquez   \n",
       "19                                         San Marcos   \n",
       "20                                         Santa Rosa   \n",
       "21                                             Sololá   \n",
       "22                                      Suchitepéquez   \n",
       "23                                        Totonicapán   \n",
       "24                                             Zacapa   \n",
       "\n",
       "                                                    1  \\\n",
       "0                          Departamentos de Guatemala   \n",
       "1   Zacapa Chiquimula Sacatepéquez San Marcos Reta...   \n",
       "2                                            Cabecera   \n",
       "3                                               Cobán   \n",
       "4                                              Salamá   \n",
       "5                                       Chimaltenango   \n",
       "6                                          Chiquimula   \n",
       "7                                          Guastatoya   \n",
       "8                                           Escuintla   \n",
       "9                                 Ciudad de Guatemala   \n",
       "10                                      Huehuetenango   \n",
       "11                                     Puerto Barrios   \n",
       "12                                             Jalapa   \n",
       "13                                            Jutiapa   \n",
       "14                                             Flores   \n",
       "15                                     Quetzaltenango   \n",
       "16                              Santa Cruz del Quiché   \n",
       "17                                         Retalhuleu   \n",
       "18                                  Antigua Guatemala   \n",
       "19                                         San Marcos   \n",
       "20                                            Cuilapa   \n",
       "21                                             Sololá   \n",
       "22                                        Mazatenango   \n",
       "23                                        Totonicapán   \n",
       "24                                             Zacapa   \n",
       "\n",
       "                                                    2  \\\n",
       "0                          Departamentos de Guatemala   \n",
       "1   Zacapa Chiquimula Sacatepéquez San Marcos Reta...   \n",
       "2                                    Superficie (km²)   \n",
       "3                                               8 686   \n",
       "4                                               3 124   \n",
       "5                                               1 979   \n",
       "6                                               2 376   \n",
       "7                                               1 922   \n",
       "8                                               4 384   \n",
       "9                                               2 126   \n",
       "10                                              7 400   \n",
       "11                                              9 038   \n",
       "12                                              2 063   \n",
       "13                                              3 216   \n",
       "14                                             35 854   \n",
       "15                                              1 953   \n",
       "16                                              8 378   \n",
       "17                                              1 856   \n",
       "18                                                465   \n",
       "19                                              3 791   \n",
       "20                                              2 955   \n",
       "21                                              1 061   \n",
       "22                                              2 510   \n",
       "23                                              1 061   \n",
       "24                                              2 690   \n",
       "\n",
       "                                                    3  \n",
       "0                          Departamentos de Guatemala  \n",
       "1   Zacapa Chiquimula Sacatepéquez San Marcos Reta...  \n",
       "2                                Población (hab.)[1]​  \n",
       "3                                           1 112 781  \n",
       "4                                             270 521  \n",
       "5                                             666 938  \n",
       "6                                             370 891  \n",
       "7                                             158 092  \n",
       "8                                             701 016  \n",
       "9                                           2 541 581  \n",
       "10                                          1 143 887  \n",
       "11                                            413 399  \n",
       "12                                            318 420  \n",
       "13                                            436 076  \n",
       "14                                            638 296  \n",
       "15                                            789 358  \n",
       "16                                            953 027  \n",
       "17                                            304 168  \n",
       "18                                            248 019  \n",
       "19                                          1 019 719  \n",
       "20                                            346 590  \n",
       "21                                            437 145  \n",
       "22                                            516 467  \n",
       "23                                            476 369  \n",
       "24                                            221 646  "
      ]
     },
     "execution_count": 15,
     "metadata": {},
     "output_type": "execute_result"
    }
   ],
   "source": [
    "dfDepto[0]"
   ]
  },
  {
   "cell_type": "code",
   "execution_count": 16,
   "id": "65461e20-8419-4121-b5fd-6bde746b66a9",
   "metadata": {},
   "outputs": [],
   "source": [
    "ruta = './Analisis Anual 2018 ETAS.pdf'"
   ]
  },
  {
   "cell_type": "code",
   "execution_count": 17,
   "id": "446c21b6-5861-461c-b5ed-0b954734e6b1",
   "metadata": {},
   "outputs": [
    {
     "ename": "AttributeError",
     "evalue": "module 'camelot' has no attribute 'read_pdf'",
     "output_type": "error",
     "traceback": [
      "\u001b[1;31m---------------------------------------------------------------------------\u001b[0m",
      "\u001b[1;31mAttributeError\u001b[0m                            Traceback (most recent call last)",
      "Cell \u001b[1;32mIn[17], line 1\u001b[0m\n\u001b[1;32m----> 1\u001b[0m tabla \u001b[38;5;241m=\u001b[39m \u001b[43mcamelot\u001b[49m\u001b[38;5;241;43m.\u001b[39;49m\u001b[43mread_pdf\u001b[49m(ruta, pages \u001b[38;5;241m=\u001b[39m \u001b[38;5;124m'\u001b[39m\u001b[38;5;124m3\u001b[39m\u001b[38;5;124m'\u001b[39m)\n",
      "\u001b[1;31mAttributeError\u001b[0m: module 'camelot' has no attribute 'read_pdf'"
     ]
    }
   ],
   "source": [
    "tabla = camelot.read_pdf(ruta, pages = '3')"
   ]
  },
  {
   "cell_type": "code",
   "execution_count": null,
   "id": "370665b5-32e7-4bc9-b927-b07de4275598",
   "metadata": {},
   "outputs": [],
   "source": [
    "type(tabla)"
   ]
  }
 ],
 "metadata": {
  "kernelspec": {
   "display_name": "Python 3 (ipykernel)",
   "language": "python",
   "name": "python3"
  },
  "language_info": {
   "codemirror_mode": {
    "name": "ipython",
    "version": 3
   },
   "file_extension": ".py",
   "mimetype": "text/x-python",
   "name": "python",
   "nbconvert_exporter": "python",
   "pygments_lexer": "ipython3",
   "version": "3.9.0"
  }
 },
 "nbformat": 4,
 "nbformat_minor": 5
}
